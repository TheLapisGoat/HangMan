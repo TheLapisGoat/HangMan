{
  "cells": [
    {
      "cell_type": "markdown",
      "metadata": {},
      "source": [
        "# The Hangman Game"
      ]
    },
    {
      "cell_type": "markdown",
      "metadata": {
        "nteract": {
          "transient": {
            "deleting": false
          }
        }
      },
      "source": [
        "Creating Vocabulary"
      ]
    },
    {
      "cell_type": "code",
      "execution_count": 1,
      "metadata": {
        "gather": {
          "logged": 1690268016746
        },
        "jupyter": {
          "outputs_hidden": false,
          "source_hidden": false
        },
        "nteract": {
          "transient": {
            "deleting": false
          }
        }
      },
      "outputs": [],
      "source": [
        "char2idx = {'<PAD>' : 0}\n",
        "idx2char = ['<PAD>']\n",
        "\n",
        "for i in range(26):\n",
        "    char2idx[chr(i + ord('a'))] = i + 1\n",
        "    idx2char.append(chr(ord('a') + i))\n",
        "\n",
        "char2idx['_'] = 27\n",
        "idx2char.append('_')"
      ]
    },
    {
      "cell_type": "markdown",
      "metadata": {
        "nteract": {
          "transient": {
            "deleting": false
          }
        }
      },
      "source": [
        "Importing required packages"
      ]
    },
    {
      "cell_type": "code",
      "execution_count": 2,
      "metadata": {
        "gather": {
          "logged": 1690268032241
        },
        "jupyter": {
          "outputs_hidden": false,
          "source_hidden": false
        },
        "nteract": {
          "transient": {
            "deleting": false
          }
        }
      },
      "outputs": [
        {
          "name": "stderr",
          "output_type": "stream",
          "text": [
            "2023-07-25 06:53:43.150522: I tensorflow/core/platform/cpu_feature_guard.cc:182] This TensorFlow binary is optimized to use available CPU instructions in performance-critical operations.\n",
            "To enable the following instructions: AVX2 FMA, in other operations, rebuild TensorFlow with the appropriate compiler flags.\n",
            "2023-07-25 06:53:46.686191: W tensorflow/compiler/tf2tensorrt/utils/py_utils.cc:38] TF-TRT Warning: Could not find TensorRT\n"
          ]
        }
      ],
      "source": [
        "import tensorflow as tf\n",
        "import numpy as np\n",
        "tf.keras.backend.clear_session()"
      ]
    },
    {
      "cell_type": "code",
      "execution_count": 3,
      "metadata": {
        "gather": {
          "logged": 1690268036321
        },
        "jupyter": {
          "outputs_hidden": false,
          "source_hidden": false
        },
        "nteract": {
          "transient": {
            "deleting": false
          }
        }
      },
      "outputs": [],
      "source": [
        "from keras import Input, Model\n",
        "from keras.layers import LSTM, Bidirectional, Embedding, Dense, TimeDistributed, Attention, Concatenate, Masking, Dropout, GlobalMaxPooling1D"
      ]
    },
    {
      "cell_type": "markdown",
      "metadata": {
        "nteract": {
          "transient": {
            "deleting": false
          }
        }
      },
      "source": [
        "Creating Model"
      ]
    },
    {
      "cell_type": "code",
      "execution_count": 4,
      "metadata": {
        "gather": {
          "logged": 1690268045484
        },
        "jupyter": {
          "outputs_hidden": false,
          "source_hidden": false
        },
        "nteract": {
          "transient": {
            "deleting": false
          }
        }
      },
      "outputs": [
        {
          "name": "stderr",
          "output_type": "stream",
          "text": [
            "2023-07-25 06:54:03.127950: I tensorflow/core/common_runtime/gpu/gpu_device.cc:1635] Created device /job:localhost/replica:0/task:0/device:GPU:0 with 14763 MB memory:  -> device: 0, name: Tesla T4, pci bus id: 0001:00:00.0, compute capability: 7.5\n"
          ]
        }
      ],
      "source": [
        "LATENT_DIM = 256\n",
        "\n",
        "input1 = Input(shape=(None,), name = \"Input_Word\")\n",
        "\n",
        "embedding_layer = Embedding(input_dim = 28, output_dim = 40, mask_zero = True, name = \"Embedding_Layer\")\n",
        "emb_input = embedding_layer(input1)\n",
        "\n",
        "bilstm_layer = Bidirectional(LSTM(LATENT_DIM, return_sequences = True, name = \"Bidirection_LSTM_Layer\", dropout = 0.1))\n",
        "lstm_output = bilstm_layer(emb_input)\n",
        "\n",
        "pool_layer = GlobalMaxPooling1D(name = \"MaxPooling_Layer\")\n",
        "lstm_output = pool_layer(lstm_output)\n",
        "\n",
        "input2 = Input(shape = (26,), name = \"Correct_Guesses\")\n",
        "input3 = Input(shape = (26,), name = \"Incorrect_Guesses\")\n",
        "\n",
        "\n",
        "dense_layer = Dense(128, activation = 'relu', name = \"Dense_Layer\")\n",
        "dense_layer1 = Dense(128, activation = 'relu', name = \"Dense_Layer1\")\n",
        "correct_guess_output = dense_layer(input2)\n",
        "correct_guess_output = Dropout(0.1, seed = 218)(correct_guess_output)\n",
        "incorrect_guess_output = dense_layer1(input3)\n",
        "incorrect_guess_output = Dropout(0.1, seed = 218)(incorrect_guess_output)\n",
        "\n",
        "\n",
        "concat_layer = Concatenate(name = \"Concatenate_Layer\")\n",
        "guess_output = concat_layer([correct_guess_output, incorrect_guess_output])\n",
        "\n",
        "dense_layer2 = Dense(256, activation = 'relu', name = \"Dense_Layer2\")\n",
        "guess_output = dense_layer2(guess_output)\n",
        "guess_output = Dropout(0.2, seed = 218)(guess_output)\n",
        "\n",
        "\n",
        "concat_output = concat_layer([lstm_output, guess_output])\n",
        "\n",
        "dense_layera = Dense(512, activation='relu', name = \"Dense_LayerA\")\n",
        "dense_layerb = Dense(256, activation='relu', name = \"Dense_LayerB\")\n",
        "dense_layerc = Dense(26, activation='sigmoid', name = \"Dense_LayerC\")\n",
        "output = dense_layera(concat_output)\n",
        "output = Dropout(0.3, seed = 218)(output)\n",
        "output = dense_layerb(output)\n",
        "output = Dropout(0.2, seed = 218)(output)\n",
        "output = dense_layerc(output)\n",
        "\n",
        "model = Model([input1, input2, input3], output)"
      ]
    },
    {
      "cell_type": "markdown",
      "metadata": {
        "nteract": {
          "transient": {
            "deleting": false
          }
        }
      },
      "source": [
        "Loading Trained model weights"
      ]
    },
    {
      "cell_type": "code",
      "execution_count": 6,
      "metadata": {
        "gather": {
          "logged": 1690268046355
        },
        "jupyter": {
          "outputs_hidden": false,
          "source_hidden": false
        },
        "nteract": {
          "transient": {
            "deleting": false
          }
        }
      },
      "outputs": [],
      "source": [
        "model.load_weights('model_weights.h5')"
      ]
    }
  ],
  "metadata": {
    "kernel_info": {
      "name": "tfgpu"
    },
    "kernelspec": {
      "display_name": "Python (tf-cudnn8.6)",
      "language": "python",
      "name": "tfgpu"
    },
    "language_info": {
      "codemirror_mode": {
        "name": "ipython",
        "version": 3
      },
      "file_extension": ".py",
      "mimetype": "text/x-python",
      "name": "python",
      "nbconvert_exporter": "python",
      "pygments_lexer": "ipython3",
      "version": "3.10.12"
    },
    "microsoft": {
      "host": {
        "AzureML": {
          "notebookHasBeenCompleted": true
        }
      },
      "ms_spell_check": {
        "ms_spell_check_language": "en"
      }
    },
    "nteract": {
      "version": "nteract-front-end@1.0.0"
    }
  },
  "nbformat": 4,
  "nbformat_minor": 4
}
